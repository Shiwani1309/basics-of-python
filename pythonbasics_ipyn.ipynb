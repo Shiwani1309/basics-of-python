{
  "nbformat": 4,
  "nbformat_minor": 0,
  "metadata": {
    "colab": {
      "provenance": []
    },
    "kernelspec": {
      "name": "python3",
      "display_name": "Python 3"
    },
    "language_info": {
      "name": "python"
    }
  },
  "cells": [
    {
      "cell_type": "markdown",
      "source": [
        "\n",
        "\n"
      ],
      "metadata": {
        "id": "-CwKpaxplE2C"
      }
    },
    {
      "cell_type": "markdown",
      "source": [],
      "metadata": {
        "id": "O-KHmz5yg7aD"
      }
    },
    {
      "cell_type": "code",
      "source": [],
      "metadata": {
        "id": "9WJH3qr9lFXA"
      },
      "execution_count": null,
      "outputs": []
    },
    {
      "cell_type": "markdown",
      "source": [],
      "metadata": {
        "id": "-pBfAsDmkvbZ"
      }
    },
    {
      "cell_type": "markdown",
      "source": [],
      "metadata": {
        "id": "1kqP3XSJgdS4"
      }
    },
    {
      "cell_type": "markdown",
      "source": [
        "\n",
        "\n",
        "1. What is Python, and why is it popular?\n",
        "   Ans-  Python is high-level, interpreted programming language known for its readability and versatility. It's popular because of its simple syntax, large community, extensive libraries, and wide applicability, including web development, data analysis, AI and more.\n",
        "\n",
        "2. What is an interpreter in Python?\n",
        "   Ans- An interpreter is a program that executes Python code line-by-line, allowing you to run scripts interactively. This makes it easier to debug and develop code quickly.\n",
        "\n",
        "3. What are pre-defined keywords in python?\n",
        "Ans- Pre-defined keywords in Python are reserved words that have a specific meaning and purpose within the language. Examples include if, else,for,while,true, and False.\n",
        "\n",
        "4. Can Keywords be used as variable names?\n",
        "Ans- No, Keywords cannot be used as variables names as they are reserved by python for specific functionalities.\n",
        "\n",
        "5. What is mutability in Python?\n",
        "Ans- Mutability refers to an object's ability to change its state or content after creation. For example, lists are mutable, while tuples are immutable.\n",
        "\n",
        "6. Why are lists mutable, but tuples are immutable?\n",
        "Ans- Lists are designed to be flexible, so they allow modification of elements. Tuples, on the other hand, are designed as fixed collections, making them faster and safer in scenarios where data should not change.\n",
        "\n",
        "7. What is the difference between \"==\" and \"is\" operators in Python?\n",
        "Ans- \"==\" checks if the values of two objects are equal while \"is\" checks if two variables point to the same memory location (i.e., if they are the same object).\n",
        "\n",
        "8. What are logical operators in Python?\n",
        "Ans- Logical operators are used to combine multiple conditions and include and, or, and not.\n",
        "\n",
        "9. What is type casting in Python?\n",
        "Ans- Type casting is the conversion of one data type to another, such as converting an integer to a string or a float.\n",
        "\n",
        "10. What is the difference between implicit and expilicit type casting?\n",
        "Ans- Implicit casting is done automatically by Python, while explicit casting requires the use of functions like int(), float(), or str() to convert between types.\n",
        "\n",
        "11. What is the purpose of conditional statements in Python?\n",
        "Ans- Conditional statements, such as if, elif, and else, allow Python to execute certain blocks of code based on whether a condition is True or False.\n",
        "\n",
        "12. How does the elif statement work?\n",
        "Ans- The elif statement provides additional conditions after an initial if. It is only executed if the previous if or elif condition was false.\n",
        "\n",
        "13. What is the difference between for and while loops?\n",
        "Ans- A for loop is typically used when you know the number of iterations in advance, while a while loop is used when the number of iterations depends on a condition.\n",
        "\n",
        "14. Describe a scenario where a while loop is more suitable than a for loop.\n",
        "Ans- A while loop is ideal when you want to continue looping until a specific condition is met, like waiting for user input or monitoring a process until it completes.\n",
        "\n"
      ],
      "metadata": {
        "id": "nE9yhNMGjN23"
      }
    },
    {
      "cell_type": "markdown",
      "source": [],
      "metadata": {
        "id": "MpKweDFtUCt3"
      }
    },
    {
      "cell_type": "code",
      "source": [
        "Q1. Ans-- print(\"Hello, World!\")"
      ],
      "metadata": {
        "colab": {
          "base_uri": "https://localhost:8080/"
        },
        "id": "cm7PPJ40PBmk",
        "outputId": "ea08b077-40b6-42ca-ac3f-4e4677302ea1"
      },
      "execution_count": 12,
      "outputs": [
        {
          "output_type": "stream",
          "name": "stdout",
          "text": [
            "Hello, World!\n"
          ]
        }
      ]
    },
    {
      "cell_type": "code",
      "source": [
        "Q2. Ans-- print(\"my name is shiwani and my age is 26\")"
      ],
      "metadata": {
        "colab": {
          "base_uri": "https://localhost:8080/"
        },
        "id": "RSuv2fytWf_O",
        "outputId": "72b8b5d1-e986-4317-a3c0-df49e7dab99c"
      },
      "execution_count": 13,
      "outputs": [
        {
          "output_type": "stream",
          "name": "stdout",
          "text": [
            "my name is shiwani and my age is 26\n"
          ]
        }
      ]
    },
    {
      "cell_type": "code",
      "source": [
        "Q3. Ans-- The list of keywords are:\n",
        "['False', 'None', 'True',\"__peg_parser__ 'and', 'as', 'assert', 'async', 'await', 'break',\n",
        "'class', 'continue', 'def', 'del', 'elif', 'else', 'except', 'finally', 'for', 'from', 'global', 'if',\n",
        "'import', 'in', 'is', 'lambda', 'nonlocal', 'not', 'or', 'pass', 'raise', 'return', 'try', 'while', 'with', 'yield']"
      ],
      "metadata": {
        "id": "J8GAlNgxW1K-"
      },
      "execution_count": null,
      "outputs": []
    },
    {
      "cell_type": "code",
      "source": [
        "Q4. Ans-- Using iskeyword()"
      ],
      "metadata": {
        "id": "GNoreYaIZhfS"
      },
      "execution_count": null,
      "outputs": []
    },
    {
      "cell_type": "code",
      "source": [
        "Q5. Ans-- The task of creating a list of tuples in Python involves combining or transforming multiple data elements into a sequence of tuples within a list.\n",
        "Tuples are immutable, making them useful when storing fixed pairs or groups of values, while lists offer flexibility for dynamic collections.\n",
        "For example, given two separate lists like [1, 2, 3] and [‘apple’, ‘orange’, ‘cherry’], the goal is to combine them into a list of tuples like\n",
        " [(1, ‘apple’), (2, ‘orange’), (3, ‘cherry’)].\n"
      ],
      "metadata": {
        "id": "aFnRzTKSZ2cA"
      },
      "execution_count": null,
      "outputs": []
    },
    {
      "cell_type": "code",
      "source": [
        "Q8. Ans-- We have 3 logical operators in the C language:\n",
        "\n",
        "Logical AND ( && )\n",
        "Logical OR ( || )\n",
        "Logical NOT ( ! )"
      ],
      "metadata": {
        "id": "vJDR93o_cfkS"
      },
      "execution_count": null,
      "outputs": []
    },
    {
      "cell_type": "code",
      "source": [
        "Q9. Ans-- # Converting a string into an integer\n",
        "number_str = \"10\"\n",
        "number_int = int(number_str)\n",
        "print(number_int)  # Output: 10\n",
        "\n",
        "# Converting a string into a float\n",
        "decimal_str = \"10.5\"\n",
        "decimal_float = float(decimal_str)\n",
        "print(decimal_float)  # Output: 10.5\n",
        "\n"
      ],
      "metadata": {
        "id": "wjsb9cv4cq8q"
      },
      "execution_count": null,
      "outputs": []
    },
    {
      "cell_type": "code",
      "source": [
        "Q10. Ans--\n",
        "a = [1, 4, 9, 10, 19]\n",
        "b = [[5, 6, 8], [8, 5, 3], [9, 10, 3]]\n",
        "\n",
        "c = [str(x) for x in a]\n",
        "d = [[str(x) for x in sub] for sub in b]\n",
        "\n",
        "print(c)\n",
        "print(d)\n"
      ],
      "metadata": {
        "id": "6gD8RqDqdCLY"
      },
      "execution_count": null,
      "outputs": []
    },
    {
      "cell_type": "code",
      "source": [
        "Q11. Ans-- Python Program to check if a number is Positive, Negative or 0\n",
        "num = float(input(\"Enter a number: \"))\n",
        "if num > 0:\n",
        "   print(\"Positive number\")\n",
        "elif num == 0:\n",
        "   print(\"Zero\")\n",
        "else:\n",
        "   print(\"Negative number\")\n",
        "\n",
        "\n",
        "   num = float(input(\"Enter a number: \"))\n",
        "if num >= 0:\n",
        "   if num == 0:\n",
        "       print(\"Zero\")\n",
        "   else:\n",
        "       print(\"Positive number\")\n",
        "else:\n",
        "   print(\"Negative number\")"
      ],
      "metadata": {
        "id": "pow1vUQZdxnK"
      },
      "execution_count": null,
      "outputs": []
    },
    {
      "cell_type": "code",
      "source": [
        "Q12. Ans-- Print 1 to 10 using for loop\n",
        "int main()\n",
        "{\n",
        "    int i;\n",
        "\n",
        "    /* The loop goes while i < 10, and i increases by one every loop*/\n",
        "\n",
        "    for ( i = 0; i < 10; i++ ) {\n",
        "        printf( \"%d\\n\", i );\n",
        "         }\n",
        "}\n",
        "\n",
        "/*\n",
        "Output:\n",
        "0\n",
        "1\n",
        "2\n",
        "3\n",
        "4\n",
        "5\n",
        "6\n",
        "7\n",
        "8\n",
        "9\n",
        "*/"
      ],
      "metadata": {
        "id": "cJK6Rj9BezD2"
      },
      "execution_count": null,
      "outputs": []
    },
    {
      "cell_type": "code",
      "source": [
        "Q13. Ans-- def Sum_of_Even(n):\n",
        "    sum = 0\n",
        "    for i in range(0, n+1):\n",
        "        if i % 2 == 0:\n",
        "            print(i)\n",
        "            sum+=i\n",
        "    return sum\n",
        "\n",
        "num = int(input('Enter a number: '))\n",
        "print(f\"Sum of all the even numbers is {Sum_of_Even(num)}\")"
      ],
      "metadata": {
        "id": "jHhw-mLefY5P"
      },
      "execution_count": null,
      "outputs": []
    },
    {
      "cell_type": "code",
      "source": [
        "Q14. Ans-- # Reverse string\n",
        "# Using a while loop\n",
        "\n",
        "str = \"JavaTpoint\" #  string variable\n",
        "print (\"The original string  is : \",str)\n",
        "reverse_String = \"\"  # Empty String\n",
        "count = len(str) # Find length of a string and save in count variable\n",
        "while count > 0:\n",
        "    reverse_String += str[ count - 1 ] # save the value of str[count-1] in reverseString\n",
        "    count = count - 1 # decrement index\n",
        "print (\"The reversed string using a while loop is : \",reverse_String)# reversed string"
      ],
      "metadata": {
        "id": "8d7RjCqhf4D-"
      },
      "execution_count": null,
      "outputs": []
    },
    {
      "cell_type": "code",
      "source": [
        "Q15. Ans-- # Python program to find the factorial of a number\n",
        "\n",
        "#Define a factorial and loop variable\n",
        "fact = 1\n",
        "i = 1\n",
        "\n",
        "# To take input from the user\n",
        "num = int(input(\"Enter a number: \"))\n",
        "\n",
        "# check if the number is negative or positive\n",
        "if num < 0:\n",
        "    print(\"Sorry, factorial does not exist for negative numbers\")\n",
        "else:\n",
        "    while i <= num:\n",
        "        fact = fact*i\n",
        "        i = i + 1\n",
        "    print(\"The factorial of\", num, \"is\", fact)"
      ],
      "metadata": {
        "id": "0NgW6Zlkgaca"
      },
      "execution_count": null,
      "outputs": []
    }
  ]
}